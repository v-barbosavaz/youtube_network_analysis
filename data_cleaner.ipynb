{
 "cells": [
  {
   "cell_type": "markdown",
   "metadata": {},
   "source": [
    "Corrects urls and add information to the original dataset."
   ]
  },
  {
   "cell_type": "markdown",
   "metadata": {},
   "source": [
    "___"
   ]
  },
  {
   "cell_type": "code",
   "execution_count": 1,
   "metadata": {},
   "outputs": [],
   "source": [
    "import pandas as pd\n",
    "import numpy as np\n",
    "from utils import *"
   ]
  },
  {
   "cell_type": "markdown",
   "metadata": {},
   "source": [
    "Read .csv files:"
   ]
  },
  {
   "cell_type": "code",
   "execution_count": 2,
   "metadata": {},
   "outputs": [],
   "source": [
    "df_original = pd.read_csv(\"data/youtube-a-lecole-hutin.csv\", delimiter=\";\", encoding='utf-8')\n",
    "df_url_corrected = pd.read_csv(\"data/url_corrected.csv\", delimiter=\",\", encoding='utf-8')\n",
    "df_ydt_infos = pd.read_csv(\"data/all_channels_depth0_nosub_340_358.csv\", delimiter=\";\", encoding='utf-8')"
   ]
  },
  {
   "cell_type": "code",
   "execution_count": 3,
   "metadata": {},
   "outputs": [
    {
     "name": "stdout",
     "output_type": "stream",
     "text": [
      "<class 'pandas.core.frame.DataFrame'>\n",
      "RangeIndex: 354 entries, 0 to 353\n",
      "Data columns (total 7 columns):\n",
      "Ordre                                     354 non-null float64\n",
      "Discipline                                354 non-null object\n",
      "Nom de la chaine YouTube                  354 non-null object\n",
      "URL de la chaine YouTube                  354 non-null object\n",
      "Mots-clés                                 340 non-null object\n",
      "Description (par le/la vidéaste)          300 non-null object\n",
      "Description (par l'auteure du rapport)    54 non-null object\n",
      "dtypes: float64(1), object(6)\n",
      "memory usage: 19.5+ KB\n"
     ]
    }
   ],
   "source": [
    "df_original.info()"
   ]
  },
  {
   "cell_type": "markdown",
   "metadata": {},
   "source": [
    "Rename columns:"
   ]
  },
  {
   "cell_type": "code",
   "execution_count": 4,
   "metadata": {},
   "outputs": [],
   "source": [
    "df_original.columns = ['idx', 'category', 'name', 'url', 'keywords', 'desc', 'desc_rapport']\n",
    "df_original[\"idx\"] = df_original[\"idx\"].astype(int).copy()"
   ]
  },
  {
   "cell_type": "code",
   "execution_count": 5,
   "metadata": {},
   "outputs": [
    {
     "data": {
      "text/html": [
       "<div>\n",
       "<style scoped>\n",
       "    .dataframe tbody tr th:only-of-type {\n",
       "        vertical-align: middle;\n",
       "    }\n",
       "\n",
       "    .dataframe tbody tr th {\n",
       "        vertical-align: top;\n",
       "    }\n",
       "\n",
       "    .dataframe thead th {\n",
       "        text-align: right;\n",
       "    }\n",
       "</style>\n",
       "<table border=\"1\" class=\"dataframe\">\n",
       "  <thead>\n",
       "    <tr style=\"text-align: right;\">\n",
       "      <th></th>\n",
       "      <th>idx</th>\n",
       "      <th>category</th>\n",
       "      <th>name</th>\n",
       "      <th>url</th>\n",
       "      <th>keywords</th>\n",
       "      <th>desc</th>\n",
       "      <th>desc_rapport</th>\n",
       "    </tr>\n",
       "  </thead>\n",
       "  <tbody>\n",
       "    <tr>\n",
       "      <th>0</th>\n",
       "      <td>196</td>\n",
       "      <td>Technologie et informatique</td>\n",
       "      <td>Léo - Techmaker</td>\n",
       "      <td>https://www.youtube.com/channel/UCRhyS_ylPQ5GW...</td>\n",
       "      <td>Technologie-ingénierie-électronique-Do it your...</td>\n",
       "      <td>« Salut c'est Léo de la chaine TechMaker ! Tes...</td>\n",
       "      <td>NaN</td>\n",
       "    </tr>\n",
       "    <tr>\n",
       "      <th>1</th>\n",
       "      <td>212</td>\n",
       "      <td>Arts et histoire de l’art</td>\n",
       "      <td>N’art</td>\n",
       "      <td>https://www.youtube.com/channel/UCQq9fMRQhXOyO...</td>\n",
       "      <td>Transversal-critiques d'expo</td>\n",
       "      <td>« Apprendre à reconnaître le style de Klimt, c...</td>\n",
       "      <td>NaN</td>\n",
       "    </tr>\n",
       "  </tbody>\n",
       "</table>\n",
       "</div>"
      ],
      "text/plain": [
       "   idx                     category             name  \\\n",
       "0  196  Technologie et informatique  Léo - Techmaker   \n",
       "1  212    Arts et histoire de l’art            N’art   \n",
       "\n",
       "                                                 url  \\\n",
       "0  https://www.youtube.com/channel/UCRhyS_ylPQ5GW...   \n",
       "1  https://www.youtube.com/channel/UCQq9fMRQhXOyO...   \n",
       "\n",
       "                                            keywords  \\\n",
       "0  Technologie-ingénierie-électronique-Do it your...   \n",
       "1                       Transversal-critiques d'expo   \n",
       "\n",
       "                                                desc desc_rapport  \n",
       "0  « Salut c'est Léo de la chaine TechMaker ! Tes...          NaN  \n",
       "1  « Apprendre à reconnaître le style de Klimt, c...          NaN  "
      ]
     },
     "execution_count": 5,
     "metadata": {},
     "output_type": "execute_result"
    }
   ],
   "source": [
    "df_original.head(2)"
   ]
  },
  {
   "cell_type": "markdown",
   "metadata": {},
   "source": [
    "Add corrected urls to the original dataset:"
   ]
  },
  {
   "cell_type": "code",
   "execution_count": 6,
   "metadata": {},
   "outputs": [
    {
     "data": {
      "text/html": [
       "<div>\n",
       "<style scoped>\n",
       "    .dataframe tbody tr th:only-of-type {\n",
       "        vertical-align: middle;\n",
       "    }\n",
       "\n",
       "    .dataframe tbody tr th {\n",
       "        vertical-align: top;\n",
       "    }\n",
       "\n",
       "    .dataframe thead th {\n",
       "        text-align: right;\n",
       "    }\n",
       "</style>\n",
       "<table border=\"1\" class=\"dataframe\">\n",
       "  <thead>\n",
       "    <tr style=\"text-align: right;\">\n",
       "      <th></th>\n",
       "      <th>idx</th>\n",
       "      <th>category</th>\n",
       "      <th>name</th>\n",
       "      <th>url</th>\n",
       "      <th>keywords</th>\n",
       "      <th>desc</th>\n",
       "      <th>desc_rapport</th>\n",
       "      <th>url_corrected</th>\n",
       "    </tr>\n",
       "  </thead>\n",
       "  <tbody>\n",
       "    <tr>\n",
       "      <th>0</th>\n",
       "      <td>196</td>\n",
       "      <td>Technologie et informatique</td>\n",
       "      <td>Léo - Techmaker</td>\n",
       "      <td>https://www.youtube.com/channel/UCRhyS_ylPQ5GW...</td>\n",
       "      <td>Technologie-ingénierie-électronique-Do it your...</td>\n",
       "      <td>« Salut c'est Léo de la chaine TechMaker ! Tes...</td>\n",
       "      <td>NaN</td>\n",
       "      <td>NaN</td>\n",
       "    </tr>\n",
       "  </tbody>\n",
       "</table>\n",
       "</div>"
      ],
      "text/plain": [
       "   idx                     category             name  \\\n",
       "0  196  Technologie et informatique  Léo - Techmaker   \n",
       "\n",
       "                                                 url  \\\n",
       "0  https://www.youtube.com/channel/UCRhyS_ylPQ5GW...   \n",
       "\n",
       "                                            keywords  \\\n",
       "0  Technologie-ingénierie-électronique-Do it your...   \n",
       "\n",
       "                                                desc desc_rapport  \\\n",
       "0  « Salut c'est Léo de la chaine TechMaker ! Tes...          NaN   \n",
       "\n",
       "  url_corrected  \n",
       "0           NaN  "
      ]
     },
     "execution_count": 6,
     "metadata": {},
     "output_type": "execute_result"
    }
   ],
   "source": [
    "df_corrected = df_original.merge(df_url_corrected[['url', 'url_corrected']], on=\"url\", how='left').copy()\n",
    "df_corrected.head(1)"
   ]
  },
  {
   "cell_type": "markdown",
   "metadata": {},
   "source": [
    "Merge urls:"
   ]
  },
  {
   "cell_type": "code",
   "execution_count": 7,
   "metadata": {},
   "outputs": [
    {
     "data": {
      "text/html": [
       "<div>\n",
       "<style scoped>\n",
       "    .dataframe tbody tr th:only-of-type {\n",
       "        vertical-align: middle;\n",
       "    }\n",
       "\n",
       "    .dataframe tbody tr th {\n",
       "        vertical-align: top;\n",
       "    }\n",
       "\n",
       "    .dataframe thead th {\n",
       "        text-align: right;\n",
       "    }\n",
       "</style>\n",
       "<table border=\"1\" class=\"dataframe\">\n",
       "  <thead>\n",
       "    <tr style=\"text-align: right;\">\n",
       "      <th></th>\n",
       "      <th>idx</th>\n",
       "      <th>url</th>\n",
       "      <th>url_corrected</th>\n",
       "      <th>url_final</th>\n",
       "    </tr>\n",
       "  </thead>\n",
       "  <tbody>\n",
       "    <tr>\n",
       "      <th>0</th>\n",
       "      <td>196</td>\n",
       "      <td>https://www.youtube.com/channel/UCRhyS_ylPQ5GW...</td>\n",
       "      <td>NaN</td>\n",
       "      <td>https://www.youtube.com/channel/UCRhyS_ylPQ5GW...</td>\n",
       "    </tr>\n",
       "    <tr>\n",
       "      <th>6</th>\n",
       "      <td>208</td>\n",
       "      <td>https://www.youtube.com/user/Rmngrandpalais/pl...</td>\n",
       "      <td>https://www.youtube.com/channel/UCyAiVPzrW_o5P...</td>\n",
       "      <td>https://www.youtube.com/channel/UCyAiVPzrW_o5P...</td>\n",
       "    </tr>\n",
       "  </tbody>\n",
       "</table>\n",
       "</div>"
      ],
      "text/plain": [
       "   idx                                                url  \\\n",
       "0  196  https://www.youtube.com/channel/UCRhyS_ylPQ5GW...   \n",
       "6  208  https://www.youtube.com/user/Rmngrandpalais/pl...   \n",
       "\n",
       "                                       url_corrected  \\\n",
       "0                                                NaN   \n",
       "6  https://www.youtube.com/channel/UCyAiVPzrW_o5P...   \n",
       "\n",
       "                                           url_final  \n",
       "0  https://www.youtube.com/channel/UCRhyS_ylPQ5GW...  \n",
       "6  https://www.youtube.com/channel/UCyAiVPzrW_o5P...  "
      ]
     },
     "execution_count": 7,
     "metadata": {},
     "output_type": "execute_result"
    }
   ],
   "source": [
    "df_corrected['url_final'] = np.where(df_corrected['url_corrected'].isnull(), df_corrected['url'], df_corrected['url_corrected'])\n",
    "\n",
    "# check if we are right\n",
    "df_corrected[df_corrected[\"idx\"].isin([196, 208])][[\"idx\", \"url\", \"url_corrected\", \"url_final\"]]\n"
   ]
  },
  {
   "cell_type": "markdown",
   "metadata": {},
   "source": [
    "Compute the channel's YouTube unique identifier from the url:"
   ]
  },
  {
   "cell_type": "code",
   "execution_count": 8,
   "metadata": {},
   "outputs": [],
   "source": [
    "df_corrected[\"ydt_id\"] = df_corrected[\"url_final\"].apply(get_id)"
   ]
  },
  {
   "cell_type": "code",
   "execution_count": 9,
   "metadata": {},
   "outputs": [
    {
     "data": {
      "text/html": [
       "<div>\n",
       "<style scoped>\n",
       "    .dataframe tbody tr th:only-of-type {\n",
       "        vertical-align: middle;\n",
       "    }\n",
       "\n",
       "    .dataframe tbody tr th {\n",
       "        vertical-align: top;\n",
       "    }\n",
       "\n",
       "    .dataframe thead th {\n",
       "        text-align: right;\n",
       "    }\n",
       "</style>\n",
       "<table border=\"1\" class=\"dataframe\">\n",
       "  <thead>\n",
       "    <tr style=\"text-align: right;\">\n",
       "      <th></th>\n",
       "      <th>idx</th>\n",
       "      <th>url_final</th>\n",
       "      <th>ydt_id</th>\n",
       "    </tr>\n",
       "  </thead>\n",
       "  <tbody>\n",
       "    <tr>\n",
       "      <th>0</th>\n",
       "      <td>196</td>\n",
       "      <td>https://www.youtube.com/channel/UCRhyS_ylPQ5GW...</td>\n",
       "      <td>UCRhyS_ylPQ5GWBl1lK92ftA</td>\n",
       "    </tr>\n",
       "    <tr>\n",
       "      <th>1</th>\n",
       "      <td>212</td>\n",
       "      <td>https://www.youtube.com/channel/UCQq9fMRQhXOyO...</td>\n",
       "      <td>UCQq9fMRQhXOyOZeageaj6ag</td>\n",
       "    </tr>\n",
       "  </tbody>\n",
       "</table>\n",
       "</div>"
      ],
      "text/plain": [
       "   idx                                          url_final  \\\n",
       "0  196  https://www.youtube.com/channel/UCRhyS_ylPQ5GW...   \n",
       "1  212  https://www.youtube.com/channel/UCQq9fMRQhXOyO...   \n",
       "\n",
       "                     ydt_id  \n",
       "0  UCRhyS_ylPQ5GWBl1lK92ftA  \n",
       "1  UCQq9fMRQhXOyOZeageaj6ag  "
      ]
     },
     "execution_count": 9,
     "metadata": {},
     "output_type": "execute_result"
    }
   ],
   "source": [
    "df_corrected[[\"idx\", \"url_final\", \"ydt_id\"]].head(2)"
   ]
  },
  {
   "cell_type": "code",
   "execution_count": 10,
   "metadata": {},
   "outputs": [],
   "source": [
    "urls = get_urls(\"ydt_id\", False, False, df_corrected)"
   ]
  },
  {
   "cell_type": "code",
   "execution_count": 11,
   "metadata": {
    "scrolled": true
   },
   "outputs": [
    {
     "name": "stdout",
     "output_type": "stream",
     "text": [
      "<class 'pandas.core.frame.DataFrame'>\n",
      "RangeIndex: 340 entries, 0 to 339\n",
      "Data columns (total 11 columns):\n",
      "Id                 340 non-null object\n",
      "Label              340 non-null object\n",
      "timeset            0 non-null float64\n",
      "isseed             340 non-null object\n",
      "seedrank           340 non-null int64\n",
      "subscribercount    340 non-null int64\n",
      "videocount         340 non-null int64\n",
      "viewcount(100s)    340 non-null int64\n",
      "country            340 non-null object\n",
      "publishedat        340 non-null object\n",
      "daysactive         340 non-null int64\n",
      "dtypes: float64(1), int64(5), object(5)\n",
      "memory usage: 29.3+ KB\n"
     ]
    }
   ],
   "source": [
    "df_ydt_infos.info()"
   ]
  },
  {
   "cell_type": "code",
   "execution_count": 12,
   "metadata": {},
   "outputs": [],
   "source": [
    "df_ydt_infos.rename(columns = {\"Id\":\"ydt_id\"}, inplace=True)"
   ]
  },
  {
   "cell_type": "code",
   "execution_count": 13,
   "metadata": {},
   "outputs": [
    {
     "name": "stdout",
     "output_type": "stream",
     "text": [
      "348 : number of unique urls\n",
      "340 : number of unique YouTube identifiers\n",
      "340 : same as before (no duplicates)\n",
      "8 : number of urls unused by YDT\n",
      "346\n",
      "350\n"
     ]
    }
   ],
   "source": [
    "print(len(set(df_original['url'])), \": number of unique urls\")\n",
    "print(len(set(df_ydt_infos['ydt_id'])), \": number of unique YouTube identifiers\")\n",
    "print(len(df_ydt_infos), \": same as before (no duplicates)\")\n",
    "print(len(set(df_original['url']))-len(set(df_ydt_infos['ydt_id'])), \": number of urls unused by YDT\")\n",
    "print(len(set(df_corrected['ydt_id'])))\n",
    "print(len(df_corrected.merge(df_ydt_infos, on=\"ydt_id\")))"
   ]
  },
  {
   "cell_type": "code",
   "execution_count": 14,
   "metadata": {},
   "outputs": [],
   "source": [
    "df_corrected.merge(df_ydt_infos, on=\"ydt_id\").to_csv(\"data/generated/data_with_info.csv\", sep=';', encoding='utf-8')"
   ]
  }
 ],
 "metadata": {
  "kernelspec": {
   "display_name": "Python 3",
   "language": "python",
   "name": "python3"
  },
  "language_info": {
   "codemirror_mode": {
    "name": "ipython",
    "version": 3
   },
   "file_extension": ".py",
   "mimetype": "text/x-python",
   "name": "python",
   "nbconvert_exporter": "python",
   "pygments_lexer": "ipython3",
   "version": "3.7.4"
  }
 },
 "nbformat": 4,
 "nbformat_minor": 2
}
