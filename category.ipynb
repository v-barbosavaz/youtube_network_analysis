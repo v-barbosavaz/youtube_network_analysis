{
 "cells": [
  {
   "cell_type": "code",
   "execution_count": 1,
   "metadata": {},
   "outputs": [],
   "source": [
    "import pandas as pd\n",
    "import re\n",
    "import numpy as np\n",
    "import matplotlib.pyplot as plt"
   ]
  },
  {
   "cell_type": "code",
   "execution_count": 2,
   "metadata": {},
   "outputs": [
    {
     "data": {
      "text/plain": [
       "['lettres_depth-1_8-8_nodes.csv',\n",
       " 'bio_depth-1_8-8_nodes.csv',\n",
       " 'phys_depth-1_8-8_nodes.csv',\n",
       " 'techno_depth-1_8-8_nodes.csv',\n",
       " 'maths_depth-1_8-8_nodes.csv',\n",
       " 'geo_depth-1_8-8_nodes.csv',\n",
       " 'langue_depth-1_8-8_nodes.csv']"
      ]
     },
     "execution_count": 2,
     "metadata": {},
     "output_type": "execute_result"
    }
   ],
   "source": [
    "from os import walk\n",
    "\n",
    "f = []\n",
    "for (dirpath, dirnames, filenames) in walk(\"data/gdf_and_csv_per_category/nodes\"):\n",
    "    for file in filenames:       \n",
    "        if file.endswith(\"nodes.csv\"):\n",
    "            f.append(file)\n",
    "f"
   ]
  },
  {
   "cell_type": "code",
   "execution_count": 3,
   "metadata": {},
   "outputs": [],
   "source": [
    "cat_alias = {'bio': 'Biologie, médecine et paléontologie',\n",
    "             'geo': 'Géographie et géopolitique',\n",
    "             'lettres': 'Lettres et littérature',\n",
    "             'maths': 'Mathématiques',\n",
    "             'phys': 'Physique-chimie et astronomie',\n",
    "             'techno': 'Technologie et informatique',\n",
    "             'langue': 'Langue française, langues et linguistique'}"
   ]
  },
  {
   "cell_type": "code",
   "execution_count": 4,
   "metadata": {},
   "outputs": [
    {
     "name": "stdout",
     "output_type": "stream",
     "text": [
      "Lettres et littérature\n",
      "Biologie, médecine et paléontologie\n",
      "Physique-chimie et astronomie\n",
      "Technologie et informatique\n",
      "Mathématiques\n",
      "Géographie et géopolitique\n",
      "Langue française, langues et linguistique\n"
     ]
    }
   ],
   "source": [
    "for cat in f:\n",
    "    #print(cat)\n",
    "    #print(cat.split('_')[0])\n",
    "    print(cat_alias.get(cat.split('_')[0]))\n",
    "    #print(cat_alias[cat.split('_')[0]])"
   ]
  },
  {
   "cell_type": "code",
   "execution_count": 5,
   "metadata": {},
   "outputs": [
    {
     "data": {
      "text/plain": [
       "'lettres_depth-1_8-8_nodes.csv'"
      ]
     },
     "execution_count": 5,
     "metadata": {},
     "output_type": "execute_result"
    }
   ],
   "source": [
    "type(f[0])\n",
    "f[0]"
   ]
  },
  {
   "cell_type": "code",
   "execution_count": 6,
   "metadata": {},
   "outputs": [],
   "source": [
    "for csv in f:\n",
    "    df = pd.read_csv(\"data/gdf_and_csv_per_category/nodes/\"+csv, delimiter=\",\", encoding='utf-8')\n",
    "    df[\"category\"] = cat_alias.get(csv.split('_')[0])\n",
    "    df.to_csv(\"data/generated/nodes_with_cat/\"+csv, sep=';', encoding='utf-8')"
   ]
  }
 ],
 "metadata": {
  "kernelspec": {
   "display_name": "Python 3",
   "language": "python",
   "name": "python3"
  },
  "language_info": {
   "codemirror_mode": {
    "name": "ipython",
    "version": 3
   },
   "file_extension": ".py",
   "mimetype": "text/x-python",
   "name": "python",
   "nbconvert_exporter": "python",
   "pygments_lexer": "ipython3",
   "version": "3.7.4"
  }
 },
 "nbformat": 4,
 "nbformat_minor": 2
}
