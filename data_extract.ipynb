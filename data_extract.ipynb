{
 "cells": [
  {
   "cell_type": "code",
   "execution_count": 1,
   "metadata": {},
   "outputs": [],
   "source": [
    "import pandas as pd\n",
    "import numpy as np\n",
    "import matplotlib.pyplot as plt\n",
    "from utils import *"
   ]
  },
  {
   "cell_type": "code",
   "execution_count": 2,
   "metadata": {},
   "outputs": [],
   "source": [
    "df_with_info = pd.read_csv(\"data/generated/data_with_info.csv\", delimiter=\";\", encoding='utf-8')"
   ]
  },
  {
   "cell_type": "code",
   "execution_count": 3,
   "metadata": {
    "scrolled": false
   },
   "outputs": [
    {
     "name": "stdout",
     "output_type": "stream",
     "text": [
      "<class 'pandas.core.frame.DataFrame'>\n",
      "RangeIndex: 350 entries, 0 to 349\n",
      "Data columns (total 21 columns):\n",
      "Unnamed: 0         350 non-null int64\n",
      "idx                350 non-null int64\n",
      "category           350 non-null object\n",
      "name               350 non-null object\n",
      "url                350 non-null object\n",
      "keywords           337 non-null object\n",
      "desc               298 non-null object\n",
      "desc_rapport       52 non-null object\n",
      "url_corrected      77 non-null object\n",
      "url_final          350 non-null object\n",
      "ydt_id             350 non-null object\n",
      "Label              350 non-null object\n",
      "timeset            0 non-null float64\n",
      "isseed             350 non-null object\n",
      "seedrank           350 non-null int64\n",
      "subscribercount    350 non-null int64\n",
      "videocount         350 non-null int64\n",
      "viewcount(100s)    350 non-null int64\n",
      "country            350 non-null object\n",
      "publishedat        350 non-null object\n",
      "daysactive         350 non-null int64\n",
      "dtypes: float64(1), int64(7), object(13)\n",
      "memory usage: 57.5+ KB\n"
     ]
    }
   ],
   "source": [
    "df_with_info.info()"
   ]
  },
  {
   "cell_type": "code",
   "execution_count": 4,
   "metadata": {},
   "outputs": [],
   "source": [
    "df_with_info.rename(columns = {\"viewcount(100s)\":\"viewcount_100s\"}, inplace=True)"
   ]
  },
  {
   "cell_type": "code",
   "execution_count": 5,
   "metadata": {},
   "outputs": [
    {
     "data": {
      "text/html": [
       "<div>\n",
       "<style scoped>\n",
       "    .dataframe tbody tr th:only-of-type {\n",
       "        vertical-align: middle;\n",
       "    }\n",
       "\n",
       "    .dataframe tbody tr th {\n",
       "        vertical-align: top;\n",
       "    }\n",
       "\n",
       "    .dataframe thead th {\n",
       "        text-align: right;\n",
       "    }\n",
       "</style>\n",
       "<table border=\"1\" class=\"dataframe\">\n",
       "  <thead>\n",
       "    <tr style=\"text-align: right;\">\n",
       "      <th></th>\n",
       "      <th>Unnamed: 0</th>\n",
       "      <th>idx</th>\n",
       "      <th>category</th>\n",
       "      <th>name</th>\n",
       "      <th>url</th>\n",
       "      <th>keywords</th>\n",
       "      <th>desc</th>\n",
       "      <th>desc_rapport</th>\n",
       "      <th>url_corrected</th>\n",
       "      <th>url_final</th>\n",
       "      <th>...</th>\n",
       "      <th>Label</th>\n",
       "      <th>timeset</th>\n",
       "      <th>isseed</th>\n",
       "      <th>seedrank</th>\n",
       "      <th>subscribercount</th>\n",
       "      <th>videocount</th>\n",
       "      <th>viewcount_100s</th>\n",
       "      <th>country</th>\n",
       "      <th>publishedat</th>\n",
       "      <th>daysactive</th>\n",
       "    </tr>\n",
       "  </thead>\n",
       "  <tbody>\n",
       "    <tr>\n",
       "      <th>0</th>\n",
       "      <td>0</td>\n",
       "      <td>196</td>\n",
       "      <td>Technologie et informatique</td>\n",
       "      <td>Léo - Techmaker</td>\n",
       "      <td>https://www.youtube.com/channel/UCRhyS_ylPQ5GW...</td>\n",
       "      <td>Technologie-ingénierie-électronique-Do it your...</td>\n",
       "      <td>« Salut c'est Léo de la chaine TechMaker ! Tes...</td>\n",
       "      <td>NaN</td>\n",
       "      <td>NaN</td>\n",
       "      <td>https://www.youtube.com/channel/UCRhyS_ylPQ5GW...</td>\n",
       "      <td>...</td>\n",
       "      <td>Léo - TechMaker</td>\n",
       "      <td>NaN</td>\n",
       "      <td>yes</td>\n",
       "      <td>296</td>\n",
       "      <td>347983</td>\n",
       "      <td>186</td>\n",
       "      <td>289879</td>\n",
       "      <td>FR</td>\n",
       "      <td>2015-11-23T00:31:45.000Z</td>\n",
       "      <td>1422</td>\n",
       "    </tr>\n",
       "  </tbody>\n",
       "</table>\n",
       "<p>1 rows × 21 columns</p>\n",
       "</div>"
      ],
      "text/plain": [
       "   Unnamed: 0  idx                     category             name  \\\n",
       "0           0  196  Technologie et informatique  Léo - Techmaker   \n",
       "\n",
       "                                                 url  \\\n",
       "0  https://www.youtube.com/channel/UCRhyS_ylPQ5GW...   \n",
       "\n",
       "                                            keywords  \\\n",
       "0  Technologie-ingénierie-électronique-Do it your...   \n",
       "\n",
       "                                                desc desc_rapport  \\\n",
       "0  « Salut c'est Léo de la chaine TechMaker ! Tes...          NaN   \n",
       "\n",
       "  url_corrected                                          url_final  ...  \\\n",
       "0           NaN  https://www.youtube.com/channel/UCRhyS_ylPQ5GW...  ...   \n",
       "\n",
       "             Label timeset  isseed seedrank  subscribercount  videocount  \\\n",
       "0  Léo - TechMaker     NaN     yes      296           347983         186   \n",
       "\n",
       "   viewcount_100s  country               publishedat daysactive  \n",
       "0          289879       FR  2015-11-23T00:31:45.000Z       1422  \n",
       "\n",
       "[1 rows x 21 columns]"
      ]
     },
     "execution_count": 5,
     "metadata": {},
     "output_type": "execute_result"
    }
   ],
   "source": [
    "df_with_info.head(1)"
   ]
  },
  {
   "cell_type": "code",
   "execution_count": 6,
   "metadata": {},
   "outputs": [
    {
     "data": {
      "text/plain": [
       "<matplotlib.axes._subplots.AxesSubplot at 0x11cf32910>"
      ]
     },
     "execution_count": 6,
     "metadata": {},
     "output_type": "execute_result"
    },
    {
     "data": {
      "image/png": "[encoded data removed]",
      "text/plain": [
       "<Figure size 432x288 with 1 Axes>"
      ]
     },
     "metadata": {
      "needs_background": "light"
     },
     "output_type": "display_data"
    }
   ],
   "source": [
    "plt.figure();\n",
    "\n",
    "pd.Series(df_with_info['category']).value_counts().plot(kind='barh')"
   ]
  },
  {
   "cell_type": "code",
   "execution_count": 7,
   "metadata": {},
   "outputs": [],
   "source": [
    "#df_with_info['category'].value_counts().plot.barh()"
   ]
  },
  {
   "cell_type": "code",
   "execution_count": 8,
   "metadata": {},
   "outputs": [
    {
     "data": {
      "text/plain": [
       "8"
      ]
     },
     "execution_count": 8,
     "metadata": {},
     "output_type": "execute_result"
    },
    {
     "data": {
      "image/png": "[encoded data removed]",
      "text/plain": [
       "<Figure size 432x288 with 1 Axes>"
      ]
     },
     "metadata": {
      "needs_background": "light"
     },
     "output_type": "display_data"
    }
   ],
   "source": [
    "not_science = ['Histoire'\n",
    "               , 'Arts et histoire de l’art'\n",
    "               , 'Youtube dans le primaire'\n",
    "               , 'Sport'\n",
    "               , 'Méthodologie'\n",
    "               , 'Audio-visuel, cinéma et jeu vidéo'\n",
    "               , 'Musique'\n",
    "               , 'Société et éducation civique'\n",
    "               #, 'Langue française, langues et linguistique'\n",
    "               , 'Économie'\n",
    "               , 'Philosophie et esprit critique'\n",
    "               , 'Culture générale'\n",
    "               , 'Psychologie']\n",
    "df_science = df_with_info[~df_with_info['category'].isin(not_science)]\n",
    "df_science['category'].unique().tolist()\n",
    "\n",
    "plt.figure();\n",
    "\n",
    "pd.Series(df_science['category']).value_counts().plot(kind='barh')\n",
    "\n",
    "pd.Series(df_science['category']).value_counts()\n",
    "\n",
    "min(pd.Series(df_science['category']).value_counts())"
   ]
  },
  {
   "cell_type": "code",
   "execution_count": 9,
   "metadata": {},
   "outputs": [],
   "source": [
    "group = df_science.groupby('category')"
   ]
  },
  {
   "cell_type": "code",
   "execution_count": 10,
   "metadata": {},
   "outputs": [
    {
     "data": {
      "text/html": [
       "<div>\n",
       "<style scoped>\n",
       "    .dataframe tbody tr th:only-of-type {\n",
       "        vertical-align: middle;\n",
       "    }\n",
       "\n",
       "    .dataframe tbody tr th {\n",
       "        vertical-align: top;\n",
       "    }\n",
       "\n",
       "    .dataframe thead th {\n",
       "        text-align: right;\n",
       "    }\n",
       "</style>\n",
       "<table border=\"1\" class=\"dataframe\">\n",
       "  <thead>\n",
       "    <tr style=\"text-align: right;\">\n",
       "      <th></th>\n",
       "      <th>idx</th>\n",
       "      <th>name</th>\n",
       "      <th>ydt_id</th>\n",
       "      <th>category</th>\n",
       "      <th>viewcount_100s</th>\n",
       "    </tr>\n",
       "  </thead>\n",
       "  <tbody>\n",
       "    <tr>\n",
       "      <th>0</th>\n",
       "      <td>159</td>\n",
       "      <td>Dans Ton Corps</td>\n",
       "      <td>UCOchT7ZJ4TXe3stdLW1Sfxw</td>\n",
       "      <td>Biologie, médecine et paléontologie</td>\n",
       "      <td>539458</td>\n",
       "    </tr>\n",
       "    <tr>\n",
       "      <th>1</th>\n",
       "      <td>160</td>\n",
       "      <td>Dirty Biology</td>\n",
       "      <td>UCtqICqGbPSbTN09K1_7VZ3Q</td>\n",
       "      <td>Biologie, médecine et paléontologie</td>\n",
       "      <td>426949</td>\n",
       "    </tr>\n",
       "    <tr>\n",
       "      <th>2</th>\n",
       "      <td>155</td>\n",
       "      <td>Cédrik Jurassik</td>\n",
       "      <td>UCpZODzFU3297WtWnnB8j6vQ</td>\n",
       "      <td>Biologie, médecine et paléontologie</td>\n",
       "      <td>48042</td>\n",
       "    </tr>\n",
       "    <tr>\n",
       "      <th>3</th>\n",
       "      <td>181</td>\n",
       "      <td>Professeur Feuillage</td>\n",
       "      <td>UCGl2QLR344ry4Y20RV9dM3g</td>\n",
       "      <td>Biologie, médecine et paléontologie</td>\n",
       "      <td>42352</td>\n",
       "    </tr>\n",
       "    <tr>\n",
       "      <th>4</th>\n",
       "      <td>175</td>\n",
       "      <td>M-Gigantoraptor</td>\n",
       "      <td>UCNEWnUoWy0h8_6Fyt_59N1Q</td>\n",
       "      <td>Biologie, médecine et paléontologie</td>\n",
       "      <td>30029</td>\n",
       "    </tr>\n",
       "    <tr>\n",
       "      <th>5</th>\n",
       "      <td>180</td>\n",
       "      <td>Prof SVT 71</td>\n",
       "      <td>UCsziE76G6NjpCTTwoSEbwYQ</td>\n",
       "      <td>Biologie, médecine et paléontologie</td>\n",
       "      <td>26445</td>\n",
       "    </tr>\n",
       "    <tr>\n",
       "      <th>6</th>\n",
       "      <td>179</td>\n",
       "      <td>Primum non nocere</td>\n",
       "      <td>UC9BnGZLT4iPaJtDOXYwQuHQ</td>\n",
       "      <td>Biologie, médecine et paléontologie</td>\n",
       "      <td>24569</td>\n",
       "    </tr>\n",
       "    <tr>\n",
       "      <th>7</th>\n",
       "      <td>153</td>\n",
       "      <td>Bio Logique</td>\n",
       "      <td>UCG-O7s_-BlT_mWGlYw-SEHg</td>\n",
       "      <td>Biologie, médecine et paléontologie</td>\n",
       "      <td>23254</td>\n",
       "    </tr>\n",
       "    <tr>\n",
       "      <th>8</th>\n",
       "      <td>54</td>\n",
       "      <td>Hugo décrypte</td>\n",
       "      <td>UCAcAnMF0OrCtUep3Y4M-ZPw</td>\n",
       "      <td>Géographie et géopolitique</td>\n",
       "      <td>207182</td>\n",
       "    </tr>\n",
       "    <tr>\n",
       "      <th>9</th>\n",
       "      <td>56</td>\n",
       "      <td>MisterGeopolitix</td>\n",
       "      <td>UCX9lsdsTKfTi1eqoyL-RS-Q</td>\n",
       "      <td>Géographie et géopolitique</td>\n",
       "      <td>19897</td>\n",
       "    </tr>\n",
       "    <tr>\n",
       "      <th>10</th>\n",
       "      <td>53</td>\n",
       "      <td>Histoire-géo au tableau</td>\n",
       "      <td>UCKnQwqEcbWMu1qdOnayfbWA</td>\n",
       "      <td>Géographie et géopolitique</td>\n",
       "      <td>10066</td>\n",
       "    </tr>\n",
       "    <tr>\n",
       "      <th>11</th>\n",
       "      <td>52</td>\n",
       "      <td>Géozone</td>\n",
       "      <td>UCp6rG9KqxwsdwgVY1D2dqWA</td>\n",
       "      <td>Géographie et géopolitique</td>\n",
       "      <td>2694</td>\n",
       "    </tr>\n",
       "    <tr>\n",
       "      <th>12</th>\n",
       "      <td>58</td>\n",
       "      <td>Terra Incognita</td>\n",
       "      <td>UCd_ho3fwV39cuki6hKUSwZg</td>\n",
       "      <td>Géographie et géopolitique</td>\n",
       "      <td>768</td>\n",
       "    </tr>\n",
       "    <tr>\n",
       "      <th>13</th>\n",
       "      <td>57</td>\n",
       "      <td>Point G</td>\n",
       "      <td>UCBo6bcRr2D9UnkMbgeEEMbw</td>\n",
       "      <td>Géographie et géopolitique</td>\n",
       "      <td>283</td>\n",
       "    </tr>\n",
       "    <tr>\n",
       "      <th>14</th>\n",
       "      <td>55</td>\n",
       "      <td>Le quatrième mur</td>\n",
       "      <td>UCIogkaC9Y6sRbzcz04_66oA</td>\n",
       "      <td>Géographie et géopolitique</td>\n",
       "      <td>71</td>\n",
       "    </tr>\n",
       "    <tr>\n",
       "      <th>15</th>\n",
       "      <td>59</td>\n",
       "      <td>Utopia Universe</td>\n",
       "      <td>UCCEnEn-a-1XI3VKMzvk2fSg</td>\n",
       "      <td>Géographie et géopolitique</td>\n",
       "      <td>27</td>\n",
       "    </tr>\n",
       "  </tbody>\n",
       "</table>\n",
       "</div>"
      ],
      "text/plain": [
       "    idx                     name                    ydt_id  \\\n",
       "0   159           Dans Ton Corps  UCOchT7ZJ4TXe3stdLW1Sfxw   \n",
       "1   160            Dirty Biology  UCtqICqGbPSbTN09K1_7VZ3Q   \n",
       "2   155          Cédrik Jurassik  UCpZODzFU3297WtWnnB8j6vQ   \n",
       "3   181     Professeur Feuillage  UCGl2QLR344ry4Y20RV9dM3g   \n",
       "4   175          M-Gigantoraptor  UCNEWnUoWy0h8_6Fyt_59N1Q   \n",
       "5   180              Prof SVT 71  UCsziE76G6NjpCTTwoSEbwYQ   \n",
       "6   179        Primum non nocere  UC9BnGZLT4iPaJtDOXYwQuHQ   \n",
       "7   153              Bio Logique  UCG-O7s_-BlT_mWGlYw-SEHg   \n",
       "8    54            Hugo décrypte  UCAcAnMF0OrCtUep3Y4M-ZPw   \n",
       "9    56         MisterGeopolitix  UCX9lsdsTKfTi1eqoyL-RS-Q   \n",
       "10   53  Histoire-géo au tableau  UCKnQwqEcbWMu1qdOnayfbWA   \n",
       "11   52                  Géozone  UCp6rG9KqxwsdwgVY1D2dqWA   \n",
       "12   58          Terra Incognita  UCd_ho3fwV39cuki6hKUSwZg   \n",
       "13   57                  Point G  UCBo6bcRr2D9UnkMbgeEEMbw   \n",
       "14   55         Le quatrième mur  UCIogkaC9Y6sRbzcz04_66oA   \n",
       "15   59          Utopia Universe  UCCEnEn-a-1XI3VKMzvk2fSg   \n",
       "\n",
       "                               category  viewcount_100s  \n",
       "0   Biologie, médecine et paléontologie          539458  \n",
       "1   Biologie, médecine et paléontologie          426949  \n",
       "2   Biologie, médecine et paléontologie           48042  \n",
       "3   Biologie, médecine et paléontologie           42352  \n",
       "4   Biologie, médecine et paléontologie           30029  \n",
       "5   Biologie, médecine et paléontologie           26445  \n",
       "6   Biologie, médecine et paléontologie           24569  \n",
       "7   Biologie, médecine et paléontologie           23254  \n",
       "8            Géographie et géopolitique          207182  \n",
       "9            Géographie et géopolitique           19897  \n",
       "10           Géographie et géopolitique           10066  \n",
       "11           Géographie et géopolitique            2694  \n",
       "12           Géographie et géopolitique             768  \n",
       "13           Géographie et géopolitique             283  \n",
       "14           Géographie et géopolitique              71  \n",
       "15           Géographie et géopolitique              27  "
      ]
     },
     "execution_count": 10,
     "metadata": {},
     "output_type": "execute_result"
    }
   ],
   "source": [
    "\n",
    "\n",
    "df_subset_8 = group.apply(lambda x: x.sort_values(by=[\"viewcount_100s\"], ascending=False)[:8])\n",
    "\n",
    "df_subset_8 = df_subset_8.reset_index(drop=True)\n",
    "\n",
    "df_subset_8[[\"idx\",\"name\", \"ydt_id\", \"category\",\"viewcount_100s\"]].head(16)"
   ]
  },
  {
   "cell_type": "code",
   "execution_count": 11,
   "metadata": {},
   "outputs": [
    {
     "name": "stdout",
     "output_type": "stream",
     "text": [
      "['UCOchT7ZJ4TXe3stdLW1Sfxw,UCtqICqGbPSbTN09K1_7VZ3Q,UCpZODzFU3297WtWnnB8j6vQ,UCGl2QLR344ry4Y20RV9dM3g,UCNEWnUoWy0h8_6Fyt_59N1Q,UCsziE76G6NjpCTTwoSEbwYQ,UC9BnGZLT4iPaJtDOXYwQuHQ,UCG-O7s_-BlT_mWGlYw-SEHg,UCAcAnMF0OrCtUep3Y4M-ZPw,UCX9lsdsTKfTi1eqoyL-RS-Q,UCKnQwqEcbWMu1qdOnayfbWA,UCp6rG9KqxwsdwgVY1D2dqWA,UCd_ho3fwV39cuki6hKUSwZg,UCBo6bcRr2D9UnkMbgeEEMbw,UCIogkaC9Y6sRbzcz04_66oA,UCCEnEn-a-1XI3VKMzvk2fSg,UCofQxJWd4qkqc7ZgaLkZfcw,UCiS98AQGiMcu-cTIO9iZv_g,UC3rbgmQApsfAhvQ5Oa0azsQ,UC1ipKNAWcHhmcqKUEGg1RMg,UCV7LqtLm0-NW4x1W5AUu-QA,UCXw2TBQp-GEhM1bsBASuv8g,UC0efyK_-Athm8yhyjNSqndQ,UCbMwZeGQwv3lrwELbojTYNw,UCvpC3r6uMufMM5qb3c0QtDw,UCFyaA9LoooQrLiDvP0R7GpA,UCAmsG64faWTwlpGCfHQ3mig,UCrpqKTyAxJWSpwmA_BfWTjw,UC32vOdZp-NN4eZZhJrUNR6w,UC2XIqez2q8sk2bd8YcAok5Q,UCvFUHbJieL0AzVHHbgfhk7A,UCO-YDXoZJNVJFmF1UJ17rEw,UCaDqmzanCq4ZYhdEm0Df9Qg,UC4PasDd25MXqlXBogBw9CAg,UCo-O74A4qVz6nq5cfCIee6w,UC0NCbj8CxzeCGIF6sODJ-7A,UCWty1tzwZW_ZNSp5GVGteaA,UCgkhWgBGRp0sdFy2MHDWfSg,UCDjXdK_Jg_0OqRlRhKiZ_Rw,UC9ciJmrLjCCkzTjQom6UlSw,UCWnfDPdZw6A23UtuBpYBbAg,UCvGag7MyHR8H9oRm9iL9Ifw,UC5X4e8ScZI2AFd_vkjSoyoQ,UCaNlbnghtwlsGF-KzAFThqA,UCaNlbnghtwlsGF-KzAFThqA,UCDC6DBi0kRp6Jk21xqfvFLA,UCdL3UpiseRlvxXuORJjmqZw,UCfxwT02Bu5R7l21uMAu8H1w,UCUR03ZSZlEvCO6EWwv4jU2w,UCYnvxJ-PKiGXo_tYXpWAC-w,UCRhyS_ylPQ5GWBl1lK92ftA,UCPFChjpOgkUqckj3378jt5w,UCa_8QKdrQkjQR2Oo23RT1uw,UCSULDz1yaHLVQWHpm4g_GHA,UCH6ppHEvV3_WIXEwmhv9HEg,UC5cs06DgLFeyLIF_II7lWCQ']\n"
     ]
    }
   ],
   "source": [
    "urls = get_urls(\"ydt_id\", False, False, df_subset_8)\n",
    "print(urls)"
   ]
  },
  {
   "cell_type": "code",
   "execution_count": 12,
   "metadata": {},
   "outputs": [
    {
     "data": {
      "text/plain": [
       "['Biologie, médecine et paléontologie',\n",
       " 'Géographie et géopolitique',\n",
       " 'Langue française, langues et linguistique',\n",
       " 'Lettres et littérature',\n",
       " 'Mathématiques',\n",
       " 'Physique-chimie et astronomie',\n",
       " 'Technologie et informatique']"
      ]
     },
     "execution_count": 12,
     "metadata": {},
     "output_type": "execute_result"
    }
   ],
   "source": [
    "df_subset_8['category'].unique().tolist()"
   ]
  },
  {
   "cell_type": "code",
   "execution_count": 13,
   "metadata": {},
   "outputs": [
    {
     "name": "stdout",
     "output_type": "stream",
     "text": [
      "\n",
      "Biologie, médecine et paléontologie\n",
      "\n",
      "UCOchT7ZJ4TXe3stdLW1Sfxw,UCtqICqGbPSbTN09K1_7VZ3Q,UCpZODzFU3297WtWnnB8j6vQ,UCGl2QLR344ry4Y20RV9dM3g,UCNEWnUoWy0h8_6Fyt_59N1Q,UCsziE76G6NjpCTTwoSEbwYQ,UC9BnGZLT4iPaJtDOXYwQuHQ,UCG-O7s_-BlT_mWGlYw-SEHg\n",
      "\n",
      "Géographie et géopolitique\n",
      "\n",
      "UCAcAnMF0OrCtUep3Y4M-ZPw,UCX9lsdsTKfTi1eqoyL-RS-Q,UCKnQwqEcbWMu1qdOnayfbWA,UCp6rG9KqxwsdwgVY1D2dqWA,UCd_ho3fwV39cuki6hKUSwZg,UCBo6bcRr2D9UnkMbgeEEMbw,UCIogkaC9Y6sRbzcz04_66oA,UCCEnEn-a-1XI3VKMzvk2fSg\n",
      "\n",
      "Langue française, langues et linguistique\n",
      "\n",
      "UCofQxJWd4qkqc7ZgaLkZfcw,UCiS98AQGiMcu-cTIO9iZv_g,UC3rbgmQApsfAhvQ5Oa0azsQ,UC1ipKNAWcHhmcqKUEGg1RMg,UCV7LqtLm0-NW4x1W5AUu-QA,UCXw2TBQp-GEhM1bsBASuv8g,UC0efyK_-Athm8yhyjNSqndQ,UCbMwZeGQwv3lrwELbojTYNw\n",
      "\n",
      "Lettres et littérature\n",
      "\n",
      "UCvpC3r6uMufMM5qb3c0QtDw,UCFyaA9LoooQrLiDvP0R7GpA,UCAmsG64faWTwlpGCfHQ3mig,UCrpqKTyAxJWSpwmA_BfWTjw,UC32vOdZp-NN4eZZhJrUNR6w,UC2XIqez2q8sk2bd8YcAok5Q,UCvFUHbJieL0AzVHHbgfhk7A,UCO-YDXoZJNVJFmF1UJ17rEw\n",
      "\n",
      "Mathématiques\n",
      "\n",
      "UCaDqmzanCq4ZYhdEm0Df9Qg,UC4PasDd25MXqlXBogBw9CAg,UCo-O74A4qVz6nq5cfCIee6w,UC0NCbj8CxzeCGIF6sODJ-7A,UCWty1tzwZW_ZNSp5GVGteaA,UCgkhWgBGRp0sdFy2MHDWfSg,UCDjXdK_Jg_0OqRlRhKiZ_Rw,UC9ciJmrLjCCkzTjQom6UlSw\n",
      "\n",
      "Physique-chimie et astronomie\n",
      "\n",
      "UCWnfDPdZw6A23UtuBpYBbAg,UCvGag7MyHR8H9oRm9iL9Ifw,UC5X4e8ScZI2AFd_vkjSoyoQ,UCaNlbnghtwlsGF-KzAFThqA,UCaNlbnghtwlsGF-KzAFThqA,UCDC6DBi0kRp6Jk21xqfvFLA,UCdL3UpiseRlvxXuORJjmqZw,UCfxwT02Bu5R7l21uMAu8H1w\n",
      "\n",
      "Technologie et informatique\n",
      "\n",
      "UCUR03ZSZlEvCO6EWwv4jU2w,UCYnvxJ-PKiGXo_tYXpWAC-w,UCRhyS_ylPQ5GWBl1lK92ftA,UCPFChjpOgkUqckj3378jt5w,UCa_8QKdrQkjQR2Oo23RT1uw,UCSULDz1yaHLVQWHpm4g_GHA,UCH6ppHEvV3_WIXEwmhv9HEg,UC5cs06DgLFeyLIF_II7lWCQ\n"
     ]
    }
   ],
   "source": [
    "for category in df_subset_8['category'].unique().tolist():\n",
    "    urls = get_urls(\"ydt_id\", False, False, df_subset_8[df_subset_8['category']==category])\n",
    "    print(\"\")\n",
    "    print(category)\n",
    "    print(\"\")\n",
    "    print(urls[0])"
   ]
  },
  {
   "cell_type": "code",
   "execution_count": 14,
   "metadata": {},
   "outputs": [
    {
     "data": {
      "text/plain": [
       "'UCOchT7ZJ4TXe3stdLW1Sfxw,UCtqICqGbPSbTN09K1_7VZ3Q,UCpZODzFU3297WtWnnB8j6vQ,UCGl2QLR344ry4Y20RV9dM3g,UCNEWnUoWy0h8_6Fyt_59N1Q,UCsziE76G6NjpCTTwoSEbwYQ,UC9BnGZLT4iPaJtDOXYwQuHQ,UCG-O7s_-BlT_mWGlYw-SEHg,UCAcAnMF0OrCtUep3Y4M-ZPw,UCX9lsdsTKfTi1eqoyL-RS-Q,UCKnQwqEcbWMu1qdOnayfbWA,UCp6rG9KqxwsdwgVY1D2dqWA,UCd_ho3fwV39cuki6hKUSwZg,UCBo6bcRr2D9UnkMbgeEEMbw,UCIogkaC9Y6sRbzcz04_66oA,UCCEnEn-a-1XI3VKMzvk2fSg,UCofQxJWd4qkqc7ZgaLkZfcw,UCiS98AQGiMcu-cTIO9iZv_g,UC3rbgmQApsfAhvQ5Oa0azsQ,UC1ipKNAWcHhmcqKUEGg1RMg,UCV7LqtLm0-NW4x1W5AUu-QA,UCXw2TBQp-GEhM1bsBASuv8g,UC0efyK_-Athm8yhyjNSqndQ,UCbMwZeGQwv3lrwELbojTYNw,UCvpC3r6uMufMM5qb3c0QtDw,UCFyaA9LoooQrLiDvP0R7GpA,UCAmsG64faWTwlpGCfHQ3mig,UCrpqKTyAxJWSpwmA_BfWTjw,UC32vOdZp-NN4eZZhJrUNR6w,UC2XIqez2q8sk2bd8YcAok5Q,UCvFUHbJieL0AzVHHbgfhk7A,UCO-YDXoZJNVJFmF1UJ17rEw,UCaDqmzanCq4ZYhdEm0Df9Qg,UC4PasDd25MXqlXBogBw9CAg,UCo-O74A4qVz6nq5cfCIee6w,UC0NCbj8CxzeCGIF6sODJ-7A,UCWty1tzwZW_ZNSp5GVGteaA,UCgkhWgBGRp0sdFy2MHDWfSg,UCDjXdK_Jg_0OqRlRhKiZ_Rw,UC9ciJmrLjCCkzTjQom6UlSw,UCWnfDPdZw6A23UtuBpYBbAg,UCvGag7MyHR8H9oRm9iL9Ifw,UC5X4e8ScZI2AFd_vkjSoyoQ,UCaNlbnghtwlsGF-KzAFThqA,UCaNlbnghtwlsGF-KzAFThqA,UCDC6DBi0kRp6Jk21xqfvFLA,UCdL3UpiseRlvxXuORJjmqZw,UCfxwT02Bu5R7l21uMAu8H1w,UCUR03ZSZlEvCO6EWwv4jU2w,UCYnvxJ-PKiGXo_tYXpWAC-w,UCRhyS_ylPQ5GWBl1lK92ftA,UCPFChjpOgkUqckj3378jt5w,UCa_8QKdrQkjQR2Oo23RT1uw,UCSULDz1yaHLVQWHpm4g_GHA,UCH6ppHEvV3_WIXEwmhv9HEg,UC5cs06DgLFeyLIF_II7lWCQ'"
      ]
     },
     "execution_count": 14,
     "metadata": {},
     "output_type": "execute_result"
    }
   ],
   "source": [
    "get_urls(\"ydt_id\", False, False, df_subset_8)[0]"
   ]
  }
 ],
 "metadata": {
  "kernelspec": {
   "display_name": "Python 3",
   "language": "python",
   "name": "python3"
  },
  "language_info": {
   "codemirror_mode": {
    "name": "ipython",
    "version": 3
   },
   "file_extension": ".py",
   "mimetype": "text/x-python",
   "name": "python",
   "nbconvert_exporter": "python",
   "pygments_lexer": "ipython3",
   "version": "3.7.4"
  }
 },
 "nbformat": 4,
 "nbformat_minor": 2
}
